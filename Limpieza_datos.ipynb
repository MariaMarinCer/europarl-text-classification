{
 "cells": [
  {
   "cell_type": "markdown",
   "id": "5bebe0e2-b2d1-4c8b-a0f6-e1f777ce91ff",
   "metadata": {},
   "source": [
    "## Trabajo de Evaluación: Tarea 3 \r\n",
    "\r\n",
    "El objetivo principal de este trabajo es el procesamiento de datos y la implementación de dos modelos para la detección automática de idiomas. \r\n",
    " "
   ]
  },
  {
   "cell_type": "code",
   "execution_count": 1,
   "id": "9b7ed5cb-2e66-4605-a636-9b87c7709c55",
   "metadata": {},
   "outputs": [],
   "source": [
    "import os\n",
    "import glob\n",
    "import re\n",
    "import random\n",
    "import string\n",
    "import pandas as pd\n",
    "import matplotlib.pyplot as plt\n",
    "import numpy as np \n",
    "import seaborn as sns\n",
    "import warnings\n",
    "from collections import defaultdict\n",
    "\n",
    "warnings.filterwarnings('ignore')"
   ]
  },
  {
   "cell_type": "markdown",
   "id": "b65afd01-4d2d-47ab-b239-a68c1121b764",
   "metadata": {},
   "source": [
    "#### Carga de datos\r\n",
    "\r\n",
    "Utilizaremos el corpus paralelo EuroParl, que contiene textos parlamentarios en múltiples idiomas de la Unión Europea. Seleccionaremos cinco mil oraciones de 7 idiomas diferentes: español, francés, inglés, alemán, polaco, lituano y portég.; "
   ]
  },
  {
   "cell_type": "code",
   "execution_count": 4,
   "id": "ff80207d-750a-473f-95cd-b705f4ab1502",
   "metadata": {},
   "outputs": [
    {
     "name": "stdout",
     "output_type": "stream",
     "text": [
      "<CHAPTER ID=1>\n",
      "Reanudación del período de sesiones\n",
      "<SPEAKER ID=1 NAME=\"La Presidenta\">\n",
      "Declaro reanudado el período de sesiones del Parlamento Europeo, interrumpido el viernes 17 de diciembre pasado, y reitero a Sus Señorías mi deseo de que hayan tenido unas buenas vacaciones.\n",
      "<P>\n",
      "Como todos han podido comprobar, el gran \"efecto del año 2000\" no se ha producido. En cambio, los ciudadanos de varios de nuestros países han sido víctimas de catástrofes naturales verdaderamente terribles. Sus Señorías han solicitado un debate sobre el tema para los próximos días, en el curso de este período de sesiones. A la espera de que se produzca, de acuerdo con muchos colegas que me lo han pedido, pido que hagamos un minuto de silencio en memoria de todas las víctimas de las tormentas, en los distintos países de la Unión Europea afectados. Invito a todos a que nos pongamos de pie para guardar un minuto de silencio.\n",
      "<P>\n",
      "(El Parlamento, de pie, guarda un minuto de silencio)\n",
      "\n",
      "<SPEAKER ID=2 NAME=\"Evans, Robert J\">\n",
      "Señora Presidenta, una cuestión de procedimiento. Sabrá usted por la prensa y la televisión que se han producido una serie de explosiones y asesinatos en Sri Lanka. Una de las personas que recientemente han asesinado en Sri Lanka ha sido al Sr. Kumar Ponnambalam, quien hace pocos meses visitó el Parlamento Europeo. ¿Sería apropiado que usted, Señora Presidenta, escribiese una carta al Presidente de Sri Lanka expresando las condolencias del Parlamento por esa y otras muertes violentas, pidiéndole que haga todo lo posible para encontrar una reconciliación pacífica ante la extremadamente difícil situación que está viviendo su país?\n",
      "\n",
      "<SPEAKER ID=3 NAME=\"La Presidenta\">\n",
      "Sí, señor Evans, pienso que una iniciativa como la que usted acaba de sugerir sería muy adecuada. Si la Asamblea está de acuerdo, haré lo que el señor Evans acaba de sugerir.\n",
      "\n",
      "<SPEAKER ID=4 NAME=\"MacCormick\">\n",
      " Señora Presidenta, una cuestión de procedimiento. Me gustaría que me asesorara sobre el Artículo 143 concer\n"
     ]
    }
   ],
   "source": [
    "with open(\"txt/es/ep-00-01-17.txt\", \"r\", encoding=\"utf-8\") as f:\n",
    "    texto = f.read()\n",
    "\n",
    "print(texto[:2000])"
   ]
  },
  {
   "cell_type": "markdown",
   "id": "ce17104d-4339-4e35-93fd-88d496c6b08a",
   "metadata": {},
   "source": [
    "Este es el formato que sigue cada archivo de cada idioma. Conocer la estructura de cada archivo es esencial para diseñar un preprocesamiento adecuado y extraer las oraciones correctamente."
   ]
  },
  {
   "cell_type": "code",
   "execution_count": 34,
   "id": "e64b5b7a-a131-4275-a287-76828776f786",
   "metadata": {},
   "outputs": [],
   "source": [
    " def limpia_texto(texto):\n",
    "    texto = texto.lower()\n",
    "    signos_comunes = string.punctuation\n",
    "    signos_a_conservar = \"¿¡çß\" \n",
    "    \n",
    "    signos_a_eliminar = \"\".join([s for s in signos_comunes if s not in signos_a_conservar])\n",
    "    \n",
    "    patron = f\"[0-9{re.escape(signos_a_eliminar)}]\"\n",
    "    texto = re.sub(patron, \"\", texto)\n",
    "    \n",
    "    return texto\n",
    "\n",
    "def procesar_archivo(ruta_archivo, min_palabras=3, max_palabras=15):\n",
    "    with open(ruta_archivo, \"r\", encoding=\"utf-8\") as f:\n",
    "        texto = f.read()\n",
    "        \n",
    "        # Eliminar etiquetas tipo <SPEAKER>, <CHAPTER>, <P>, etc.\n",
    "        texto = re.sub(r\"<.*?>\", \"\", texto)\n",
    "        texto=limpia_texto(texto)\n",
    "        \n",
    "        posibles_oraciones = re.split(r'[.\\n]', texto)\n",
    "        \n",
    "        # Filtrar por número de palabras\n",
    "        oraciones = []\n",
    "        for oracion in posibles_oraciones:\n",
    "            oracion = oracion.strip()\n",
    "            num_palabras = len(oracion.split())\n",
    "            if min_palabras <= num_palabras <= max_palabras:\n",
    "                oraciones.append(oracion)\n",
    "                \n",
    "        return oraciones\n",
    "\n",
    "\n",
    "def procesar_carpeta(ruta_carpeta, limite_oraciones=5000):\n",
    "    archivos_txt = glob.glob(os.path.join(ruta_carpeta, \"*.txt\"))\n",
    "    todas_oraciones = []\n",
    "    \n",
    "    for archivo in archivos_txt:\n",
    "        oraciones = procesar_archivo(archivo)\n",
    "        todas_oraciones.extend(oraciones)\n",
    "        \n",
    "        if len(todas_oraciones) >= limite_oraciones:\n",
    "            break\n",
    "    \n",
    "    # Limitar a 'limite_oraciones'\n",
    "    todas_oraciones = todas_oraciones[:limite_oraciones]\n",
    "    return todas_oraciones"
   ]
  },
  {
   "cell_type": "code",
   "execution_count": 7,
   "id": "c1292d9b-84a2-4a46-ad7f-463ad8d2132e",
   "metadata": {},
   "outputs": [],
   "source": [
    "idiomas_seleccionados=['es','fr','en','de','pl','lt','pt']"
   ]
  },
  {
   "cell_type": "markdown",
   "id": "675324d1-236c-4a6b-b0c7-dfb15cbcbe27",
   "metadata": {},
   "source": [
    "El objetivo es crear un dataframe con las columnas Texto e Idiomas. Para ello realizaremos una limpieza en los datos. Convertiremos todo el texto en minúsculas y eliminaremos los números y signos de puntuación que no sean descriminantes. Es decir, conservaremos aquellos signos de puntuación que identifiquen a un idioma como puede ser \"¿,¡\" del español o \"ç\" del francés. "
   ]
  },
  {
   "cell_type": "code",
   "execution_count": 36,
   "id": "7333bfdb-e185-416a-a7c0-a85263f9b7b3",
   "metadata": {},
   "outputs": [
    {
     "data": {
      "text/html": [
       "<div>\n",
       "<style scoped>\n",
       "    .dataframe tbody tr th:only-of-type {\n",
       "        vertical-align: middle;\n",
       "    }\n",
       "\n",
       "    .dataframe tbody tr th {\n",
       "        vertical-align: top;\n",
       "    }\n",
       "\n",
       "    .dataframe thead th {\n",
       "        text-align: right;\n",
       "    }\n",
       "</style>\n",
       "<table border=\"1\" class=\"dataframe\">\n",
       "  <thead>\n",
       "    <tr style=\"text-align: right;\">\n",
       "      <th></th>\n",
       "      <th>Texto</th>\n",
       "      <th>Idioma</th>\n",
       "    </tr>\n",
       "  </thead>\n",
       "  <tbody>\n",
       "    <tr>\n",
       "      <th>0</th>\n",
       "      <td>reanudación del período de sesiones</td>\n",
       "      <td>es</td>\n",
       "    </tr>\n",
       "    <tr>\n",
       "      <th>1</th>\n",
       "      <td>el parlamento de pie guarda un minuto de silencio</td>\n",
       "      <td>es</td>\n",
       "    </tr>\n",
       "    <tr>\n",
       "      <th>2</th>\n",
       "      <td>todo ello de conformidad con los principios qu...</td>\n",
       "      <td>es</td>\n",
       "    </tr>\n",
       "    <tr>\n",
       "      <th>3</th>\n",
       "      <td>orden de los trabajos</td>\n",
       "      <td>es</td>\n",
       "    </tr>\n",
       "    <tr>\n",
       "      <th>4</th>\n",
       "      <td>aplausos del grupo pse</td>\n",
       "      <td>es</td>\n",
       "    </tr>\n",
       "    <tr>\n",
       "      <th>5</th>\n",
       "      <td>aplausos del grupo ppede</td>\n",
       "      <td>es</td>\n",
       "    </tr>\n",
       "    <tr>\n",
       "      <th>6</th>\n",
       "      <td>¿algún colega tomará la palabra en nombre del ...</td>\n",
       "      <td>es</td>\n",
       "    </tr>\n",
       "    <tr>\n",
       "      <th>7</th>\n",
       "      <td>gracias señor poettering</td>\n",
       "      <td>es</td>\n",
       "    </tr>\n",
       "    <tr>\n",
       "      <th>8</th>\n",
       "      <td>escuchemos ahora al sr wurtz que hablará en co...</td>\n",
       "      <td>es</td>\n",
       "    </tr>\n",
       "    <tr>\n",
       "      <th>9</th>\n",
       "      <td>el parlamento rechaza la propuesta por  votos ...</td>\n",
       "      <td>es</td>\n",
       "    </tr>\n",
       "  </tbody>\n",
       "</table>\n",
       "</div>"
      ],
      "text/plain": [
       "                                               Texto Idioma\n",
       "0                reanudación del período de sesiones     es\n",
       "1  el parlamento de pie guarda un minuto de silencio     es\n",
       "2  todo ello de conformidad con los principios qu...     es\n",
       "3                              orden de los trabajos     es\n",
       "4                             aplausos del grupo pse     es\n",
       "5                           aplausos del grupo ppede     es\n",
       "6  ¿algún colega tomará la palabra en nombre del ...     es\n",
       "7                           gracias señor poettering     es\n",
       "8  escuchemos ahora al sr wurtz que hablará en co...     es\n",
       "9  el parlamento rechaza la propuesta por  votos ...     es"
      ]
     },
     "metadata": {},
     "output_type": "display_data"
    }
   ],
   "source": [
    "df_texto = pd.DataFrame([(x,idioma) for idioma in idiomas_seleccionados for x in procesar_carpeta(f\"txt/{idioma}/\")], columns=['Texto','Idioma'])\n",
    "display(df_texto.head(10))"
   ]
  },
  {
   "cell_type": "markdown",
   "id": "d13d14de-25a0-423b-bd06-00e7e31807b9",
   "metadata": {},
   "source": [
    "Comprobemos que efectivamente el dataset está balanceado y se mantiene una misma proporción por idiomas. "
   ]
  },
  {
   "cell_type": "code",
   "execution_count": 38,
   "id": "64e25235-4fd3-4e97-9725-e324e4f771d9",
   "metadata": {},
   "outputs": [
    {
     "data": {
      "image/png": "[encoded data removed]",
      "text/plain": [
       "<Figure size 1000x600 with 1 Axes>"
      ]
     },
     "metadata": {},
     "output_type": "display_data"
    }
   ],
   "source": [
    "plt.figure(figsize=(10, 6))\n",
    "text_counts = df_texto['Idioma'].value_counts()\n",
    "colors = sns.color_palette(\"pastel\", len(text_counts))\n",
    "ax = sns.barplot(x=text_counts.index, y=text_counts.values, palette=colors)\n",
    "\n",
    "plt.title('Distribución de Texto en el subconjunto del Dataset EUROPARL', fontsize=14)\n",
    "plt.xlabel('Idioma', fontsize=12)\n",
    "plt.ylabel('Número de ejemplos', fontsize=12)\n",
    "plt.xticks(rotation=45, ha='right')\n",
    "for i, count in enumerate(text_counts.values):\n",
    "        ax.text(i, count + 5, str(count), ha='center', fontsize=10)\n",
    "    \n",
    "plt.tight_layout()\n",
    "plt.show()"
   ]
  },
  {
   "cell_type": "code",
   "execution_count": 40,
   "id": "11e5983d-8971-4aa9-8545-dffd2e8faaaf",
   "metadata": {},
   "outputs": [
    {
     "name": "stdout",
     "output_type": "stream",
     "text": [
      "  Idioma  maximo_longitud  minimo_longitud  media_longitud  mediana_longitud\n",
      "0     de               15                3          7.3112               7.0\n",
      "1     en               15                3          7.0936               6.0\n",
      "2     es               15                3          7.2200               6.0\n",
      "3     fr               15                3          7.0366               6.0\n",
      "4     lt               15                3          7.2876               6.0\n",
      "5     pl               15                3          7.3370               7.0\n",
      "6     pt               15                3          7.2902               6.0\n"
     ]
    }
   ],
   "source": [
    "df_texto[\"Longitud\"] = df_texto[\"Texto\"].apply(lambda x: len(x.split()))\n",
    "\n",
    "resumen = df_texto.groupby(\"Idioma\").agg(\n",
    "    maximo_longitud = (\"Longitud\", \"max\"),\n",
    "    minimo_longitud = (\"Longitud\", \"min\"),\n",
    "    media_longitud = (\"Longitud\", \"mean\"),\n",
    "    mediana_longitud = (\"Longitud\", \"median\")\n",
    ").reset_index()\n",
    "\n",
    "print(resumen)"
   ]
  },
  {
   "cell_type": "markdown",
   "id": "b7f43e07-c236-4e47-964a-25df4223b086",
   "metadata": {},
   "source": [
    "Los resultados obtenidos indican que el procesamiento ha sido exitoso: se ha generado un dataset balanceado en cuanto a idiomas y controlado en cuanto a longitud de las oraciones. La longitud mínima es de 3 palabras y la máxima de 15, con una mediana centrada entre 6 y 7 palabras, exactamente como se requería. Esto garantiza homogeneidad estructural en el corpus, lo cual es fundamental para futuras tareas de modelado y análisis.\n",
    "\n",
    "Para ahorrar recursos computacionales y evitar reprocesar los archivos originales, procederemos a guardar el dataset limpio en disco. Trabajaremos directamente con este archivo en los pasos siguientes."
   ]
  },
  {
   "cell_type": "code",
   "execution_count": 45,
   "id": "fa362991-95de-477e-8321-b9c8c3235339",
   "metadata": {},
   "outputs": [],
   "source": [
    "df_texto.to_csv(\"dataset_oraciones_limpio.csv\", index=False, encoding=\"utf-8\")"
   ]
  }
 ],
 "metadata": {
  "kernelspec": {
   "display_name": "Python 3 (ipykernel)",
   "language": "python",
   "name": "python3"
  },
  "language_info": {
   "codemirror_mode": {
    "name": "ipython",
    "version": 3
   },
   "file_extension": ".py",
   "mimetype": "text/x-python",
   "name": "python",
   "nbconvert_exporter": "python",
   "pygments_lexer": "ipython3",
   "version": "3.12.3"
  }
 },
 "nbformat": 4,
 "nbformat_minor": 5
}
